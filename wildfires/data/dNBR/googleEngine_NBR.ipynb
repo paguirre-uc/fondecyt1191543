{
 "cells": [
  {
   "cell_type": "code",
   "execution_count": null,
   "id": "cfeaa234",
   "metadata": {
    "colab": {
     "background_save": true,
     "base_uri": "https://localhost:8080/"
    },
    "id": "cfeaa234",
    "outputId": "a8267d07-8179-49cc-ac41-23a44a2bbae4"
   },
   "outputs": [],
   "source": [
    "import ee\n",
    "service_account = 'googleengine@fondecyt1191543.iam.gserviceaccount.com'\n",
    "#credentials = ee.ServiceAccountCredentials(service_account, 'fondecyt1191543-5bb0b5b19991.json')\n",
    "# Trigger the authentication flow.\n",
    "ee.Authenticate()\n",
    "\n",
    "# Initialize the library.\n",
    "ee.Initialize()"
   ]
  },
  {
   "cell_type": "code",
   "execution_count": null,
   "id": "62a36d21",
   "metadata": {
    "id": "62a36d21"
   },
   "outputs": [],
   "source": [
    "import matplotlib.pyplot as plt\n",
    "import numpy as np\n",
    "import IPython.display as disp\n",
    "import geopandas as gpd\n",
    "from datetime import datetime, timedelta\n",
    "import  zipfile, io, shutil\n",
    "import json\n",
    "\n",
    "%matplotlib inline\n",
    "import warnings\n",
    "warnings.filterwarnings('ignore')"
   ]
  },
  {
   "cell_type": "markdown",
   "id": "9b892015",
   "metadata": {
    "id": "9b892015"
   },
   "source": [
    "## Cloud functions"
   ]
  },
  {
   "cell_type": "code",
   "execution_count": null,
   "id": "91e0343c",
   "metadata": {
    "id": "91e0343c"
   },
   "outputs": [],
   "source": [
    "def maskS2clouds(image):\n",
    "  qa = image.select('QA60')\n",
    "  cloudBitMask = 1 << 10\n",
    "  cirrusBitMask = 1 << 11\n",
    "  mask = qa.bitwiseAnd(cloudBitMask).eq(0).And(\n",
    "             qa.bitwiseAnd(cirrusBitMask).eq(0))\n",
    "  return image.updateMask(mask).select(\"B.*\").copyProperties(image, [\"system:time_start\"])\n"
   ]
  },
  {
   "cell_type": "code",
   "execution_count": null,
   "id": "fabb9380",
   "metadata": {
    "id": "fabb9380"
   },
   "outputs": [],
   "source": [
    "CLOUD_FILTER = 60\n",
    "CLD_PRB_THRESH = 50\n",
    "NIR_DRK_THRESH = 0.15\n",
    "CLD_PRJ_DIST = 1\n",
    "BUFFER = 50\n",
    "\n",
    "def get_s2_sr_cld_col(aoi, start_date, end_date):\n",
    "    # Import and filter S2 SR.\n",
    "    s2_sr_col = (ee.ImageCollection('COPERNICUS/S2_SR')\n",
    "        .filterBounds(aoi)\n",
    "        .filterDate(start_date, end_date)\n",
    "        .filter(ee.Filter.lte('CLOUDY_PIXEL_PERCENTAGE', CLOUD_FILTER)))\n",
    "\n",
    "    # Import and filter s2cloudless.\n",
    "    s2_cloudless_col = (ee.ImageCollection('COPERNICUS/S2_CLOUD_PROBABILITY')\n",
    "        .filterBounds(aoi)\n",
    "        .filterDate(start_date, end_date))\n",
    "\n",
    "    # Join the filtered s2cloudless collection to the SR collection by the 'system:index' property.\n",
    "    return ee.ImageCollection(ee.Join.saveFirst('s2cloudless').apply(**{\n",
    "        'primary': s2_sr_col,\n",
    "        'secondary': s2_cloudless_col,\n",
    "        'condition': ee.Filter.equals(**{\n",
    "            'leftField': 'system:index',\n",
    "            'rightField': 'system:index'\n",
    "        })\n",
    "    }))"
   ]
  },
  {
   "cell_type": "markdown",
   "id": "ba94f4d4",
   "metadata": {
    "id": "ba94f4d4"
   },
   "source": [
    "## Ubicación e imágenes pre-post incendios:"
   ]
  },
  {
   "cell_type": "code",
   "execution_count": null,
   "id": "008218db",
   "metadata": {
    "id": "008218db"
   },
   "outputs": [],
   "source": [
    "cases={'Limache':{'date':datetime(2019,1,3),'loc': (-71.23338230315984, -32.98741702029078)},\n",
    "        'Rodelillo':{'date':datetime(2019,11,18),'loc': (-71.58387814694001, -33.05355562738098)},\n",
    "      'Miraflores':{'date':datetime(2019,11,18),'loc': (-71.52681957185263, -33.02176651781756)},\n",
    "      'Rocuant':{'date':datetime(2019,12,14),'loc': (-71.58911805125635, -33.07314951329438)},\n",
    "      'Quilpue':{'date':datetime(2021,1,15),'loc': (-71.41691745413526, -33.07857460989792)},\n",
    "      'LagunaVerde':{'date':datetime(2022,3,30),'loc': (-71.67884530158557, -33.13923221199312)},\n",
    "      'Melipilla':{'date':datetime(2022,12,15),'loc':(-71.301511,-33.800970)}}\n",
    "\n",
    "cases={'ViñadelMar':{'date':datetime(2022,12,22),'loc':(-71.54191567666568,-33.034022110663976)}}\n",
    "\n",
    "root='imagenesSentinel/'"
   ]
  },
  {
   "cell_type": "code",
   "execution_count": null,
   "id": "01356b6e",
   "metadata": {
    "id": "01356b6e",
    "outputId": "9e3dbf94-8ff1-4bc8-e3ea-26a3bcf210c4"
   },
   "outputs": [
    {
     "name": "stdout",
     "output_type": "stream",
     "text": [
      "----\n",
      "ViñadelMar\n",
      "imagenesSentinel//ViñadelMar/ViñadelMar_boundary_WGS.json\n",
      "2022-12-22 00:00:00\n",
      "Pre image:  COPERNICUS/S2/20221219T143731_20221219T144224_T19HBD\n",
      "pre: 1\n"
     ]
    },
    {
     "ename": "EEException",
     "evalue": "Element.get: Parameter 'object' is required.",
     "output_type": "error",
     "traceback": [
      "\u001b[0;31m---------------------------------------------------------------------------\u001b[0m",
      "\u001b[0;31mHttpError\u001b[0m                                 Traceback (most recent call last)",
      "\u001b[0;32m~/anaconda3/lib/python3.7/site-packages/ee/data.py\u001b[0m in \u001b[0;36m_execute_cloud_call\u001b[0;34m(call, num_retries)\u001b[0m\n\u001b[1;32m    329\u001b[0m   \u001b[0;32mtry\u001b[0m\u001b[0;34m:\u001b[0m\u001b[0;34m\u001b[0m\u001b[0;34m\u001b[0m\u001b[0m\n\u001b[0;32m--> 330\u001b[0;31m     \u001b[0;32mreturn\u001b[0m \u001b[0mcall\u001b[0m\u001b[0;34m.\u001b[0m\u001b[0mexecute\u001b[0m\u001b[0;34m(\u001b[0m\u001b[0mnum_retries\u001b[0m\u001b[0;34m=\u001b[0m\u001b[0mnum_retries\u001b[0m\u001b[0;34m)\u001b[0m\u001b[0;34m\u001b[0m\u001b[0;34m\u001b[0m\u001b[0m\n\u001b[0m\u001b[1;32m    331\u001b[0m   \u001b[0;32mexcept\u001b[0m \u001b[0mgoogleapiclient\u001b[0m\u001b[0;34m.\u001b[0m\u001b[0merrors\u001b[0m\u001b[0;34m.\u001b[0m\u001b[0mHttpError\u001b[0m \u001b[0;32mas\u001b[0m \u001b[0me\u001b[0m\u001b[0;34m:\u001b[0m\u001b[0;34m\u001b[0m\u001b[0;34m\u001b[0m\u001b[0m\n",
      "\u001b[0;32m~/anaconda3/lib/python3.7/site-packages/googleapiclient/_helpers.py\u001b[0m in \u001b[0;36mpositional_wrapper\u001b[0;34m(*args, **kwargs)\u001b[0m\n\u001b[1;32m    133\u001b[0m                     \u001b[0mlogger\u001b[0m\u001b[0;34m.\u001b[0m\u001b[0mwarning\u001b[0m\u001b[0;34m(\u001b[0m\u001b[0mmessage\u001b[0m\u001b[0;34m)\u001b[0m\u001b[0;34m\u001b[0m\u001b[0;34m\u001b[0m\u001b[0m\n\u001b[0;32m--> 134\u001b[0;31m             \u001b[0;32mreturn\u001b[0m \u001b[0mwrapped\u001b[0m\u001b[0;34m(\u001b[0m\u001b[0;34m*\u001b[0m\u001b[0margs\u001b[0m\u001b[0;34m,\u001b[0m \u001b[0;34m**\u001b[0m\u001b[0mkwargs\u001b[0m\u001b[0;34m)\u001b[0m\u001b[0;34m\u001b[0m\u001b[0;34m\u001b[0m\u001b[0m\n\u001b[0m\u001b[1;32m    135\u001b[0m \u001b[0;34m\u001b[0m\u001b[0m\n",
      "\u001b[0;32m~/anaconda3/lib/python3.7/site-packages/googleapiclient/http.py\u001b[0m in \u001b[0;36mexecute\u001b[0;34m(self, http, num_retries)\u001b[0m\n\u001b[1;32m    914\u001b[0m         \u001b[0;32mif\u001b[0m \u001b[0mresp\u001b[0m\u001b[0;34m.\u001b[0m\u001b[0mstatus\u001b[0m \u001b[0;34m>=\u001b[0m \u001b[0;36m300\u001b[0m\u001b[0;34m:\u001b[0m\u001b[0;34m\u001b[0m\u001b[0;34m\u001b[0m\u001b[0m\n\u001b[0;32m--> 915\u001b[0;31m             \u001b[0;32mraise\u001b[0m \u001b[0mHttpError\u001b[0m\u001b[0;34m(\u001b[0m\u001b[0mresp\u001b[0m\u001b[0;34m,\u001b[0m \u001b[0mcontent\u001b[0m\u001b[0;34m,\u001b[0m \u001b[0muri\u001b[0m\u001b[0;34m=\u001b[0m\u001b[0mself\u001b[0m\u001b[0;34m.\u001b[0m\u001b[0muri\u001b[0m\u001b[0;34m)\u001b[0m\u001b[0;34m\u001b[0m\u001b[0;34m\u001b[0m\u001b[0m\n\u001b[0m\u001b[1;32m    916\u001b[0m         \u001b[0;32mreturn\u001b[0m \u001b[0mself\u001b[0m\u001b[0;34m.\u001b[0m\u001b[0mpostproc\u001b[0m\u001b[0;34m(\u001b[0m\u001b[0mresp\u001b[0m\u001b[0;34m,\u001b[0m \u001b[0mcontent\u001b[0m\u001b[0;34m)\u001b[0m\u001b[0;34m\u001b[0m\u001b[0;34m\u001b[0m\u001b[0m\n",
      "\u001b[0;31mHttpError\u001b[0m: <HttpError 400 when requesting https://earthengine.googleapis.com/v1alpha/projects/earthengine-legacy/value:compute?prettyPrint=false&alt=json returned \"Element.get: Parameter 'object' is required.\". Details: \"Element.get: Parameter 'object' is required.\">",
      "\nDuring handling of the above exception, another exception occurred:\n",
      "\u001b[0;31mEEException\u001b[0m                               Traceback (most recent call last)",
      "\u001b[0;32m/var/folders/nv/fj63xnwj2k36yk0jvp89kf8w0000gn/T/ipykernel_34829/1552903744.py\u001b[0m in \u001b[0;36m<module>\u001b[0;34m\u001b[0m\n\u001b[1;32m     45\u001b[0m \u001b[0;34m\u001b[0m\u001b[0m\n\u001b[1;32m     46\u001b[0m     \u001b[0mimage_post\u001b[0m \u001b[0;34m=\u001b[0m \u001b[0mee\u001b[0m\u001b[0;34m.\u001b[0m\u001b[0mImage\u001b[0m\u001b[0;34m(\u001b[0m\u001b[0mim_coll_post\u001b[0m\u001b[0;34m.\u001b[0m\u001b[0msort\u001b[0m\u001b[0;34m(\u001b[0m\u001b[0;34m'system:time_start'\u001b[0m\u001b[0;34m,\u001b[0m\u001b[0;32mFalse\u001b[0m\u001b[0;34m)\u001b[0m\u001b[0;34m.\u001b[0m\u001b[0mfirst\u001b[0m\u001b[0;34m(\u001b[0m\u001b[0;34m)\u001b[0m\u001b[0;34m)\u001b[0m\u001b[0;34m\u001b[0m\u001b[0;34m\u001b[0m\u001b[0m\n\u001b[0;32m---> 47\u001b[0;31m     \u001b[0mprint\u001b[0m\u001b[0;34m(\u001b[0m\u001b[0;34m'Post image: '\u001b[0m\u001b[0;34m,\u001b[0m\u001b[0mimage_post\u001b[0m\u001b[0;34m.\u001b[0m\u001b[0mget\u001b[0m\u001b[0;34m(\u001b[0m\u001b[0;34m'system:id'\u001b[0m\u001b[0;34m)\u001b[0m\u001b[0;34m.\u001b[0m\u001b[0mgetInfo\u001b[0m\u001b[0;34m(\u001b[0m\u001b[0;34m)\u001b[0m\u001b[0;34m)\u001b[0m\u001b[0;34m\u001b[0m\u001b[0;34m\u001b[0m\u001b[0m\n\u001b[0m\u001b[1;32m     48\u001b[0m \u001b[0;34m\u001b[0m\u001b[0m\n\u001b[1;32m     49\u001b[0m     \u001b[0mimage_pre\u001b[0m \u001b[0;34m=\u001b[0m \u001b[0mee\u001b[0m\u001b[0;34m.\u001b[0m\u001b[0mImage\u001b[0m\u001b[0;34m(\u001b[0m\u001b[0mim_coll_pre\u001b[0m\u001b[0;34m.\u001b[0m\u001b[0msort\u001b[0m\u001b[0;34m(\u001b[0m\u001b[0;34m'system:time_start'\u001b[0m\u001b[0;34m)\u001b[0m\u001b[0;34m.\u001b[0m\u001b[0mfirst\u001b[0m\u001b[0;34m(\u001b[0m\u001b[0;34m)\u001b[0m\u001b[0;34m)\u001b[0m\u001b[0;34m\u001b[0m\u001b[0;34m\u001b[0m\u001b[0m\n",
      "\u001b[0;32m~/anaconda3/lib/python3.7/site-packages/ee/computedobject.py\u001b[0m in \u001b[0;36mgetInfo\u001b[0;34m(self)\u001b[0m\n\u001b[1;32m     96\u001b[0m       \u001b[0mThe\u001b[0m \u001b[0mobject\u001b[0m \u001b[0mcan\u001b[0m \u001b[0mevaluate\u001b[0m \u001b[0mto\u001b[0m \u001b[0manything\u001b[0m\u001b[0;34m.\u001b[0m\u001b[0;34m\u001b[0m\u001b[0;34m\u001b[0m\u001b[0m\n\u001b[1;32m     97\u001b[0m     \"\"\"\n\u001b[0;32m---> 98\u001b[0;31m     \u001b[0;32mreturn\u001b[0m \u001b[0mdata\u001b[0m\u001b[0;34m.\u001b[0m\u001b[0mcomputeValue\u001b[0m\u001b[0;34m(\u001b[0m\u001b[0mself\u001b[0m\u001b[0;34m)\u001b[0m\u001b[0;34m\u001b[0m\u001b[0;34m\u001b[0m\u001b[0m\n\u001b[0m\u001b[1;32m     99\u001b[0m \u001b[0;34m\u001b[0m\u001b[0m\n\u001b[1;32m    100\u001b[0m   \u001b[0;32mdef\u001b[0m \u001b[0mencode\u001b[0m\u001b[0;34m(\u001b[0m\u001b[0mself\u001b[0m\u001b[0;34m,\u001b[0m \u001b[0mencoder\u001b[0m\u001b[0;34m)\u001b[0m\u001b[0;34m:\u001b[0m\u001b[0;34m\u001b[0m\u001b[0;34m\u001b[0m\u001b[0m\n",
      "\u001b[0;32m~/anaconda3/lib/python3.7/site-packages/ee/data.py\u001b[0m in \u001b[0;36mcomputeValue\u001b[0;34m(obj)\u001b[0m\n\u001b[1;32m    737\u001b[0m           \u001b[0mbody\u001b[0m\u001b[0;34m=\u001b[0m\u001b[0;34m{\u001b[0m\u001b[0;34m'expression'\u001b[0m\u001b[0;34m:\u001b[0m \u001b[0mserializer\u001b[0m\u001b[0;34m.\u001b[0m\u001b[0mencode\u001b[0m\u001b[0;34m(\u001b[0m\u001b[0mobj\u001b[0m\u001b[0;34m,\u001b[0m \u001b[0mfor_cloud_api\u001b[0m\u001b[0;34m=\u001b[0m\u001b[0;32mTrue\u001b[0m\u001b[0;34m)\u001b[0m\u001b[0;34m}\u001b[0m\u001b[0;34m,\u001b[0m\u001b[0;34m\u001b[0m\u001b[0;34m\u001b[0m\u001b[0m\n\u001b[1;32m    738\u001b[0m           \u001b[0mproject\u001b[0m\u001b[0;34m=\u001b[0m\u001b[0m_get_projects_path\u001b[0m\u001b[0;34m(\u001b[0m\u001b[0;34m)\u001b[0m\u001b[0;34m,\u001b[0m\u001b[0;34m\u001b[0m\u001b[0;34m\u001b[0m\u001b[0m\n\u001b[0;32m--> 739\u001b[0;31m           prettyPrint=False))['result']\n\u001b[0m\u001b[1;32m    740\u001b[0m \u001b[0;34m\u001b[0m\u001b[0m\n\u001b[1;32m    741\u001b[0m \u001b[0;34m\u001b[0m\u001b[0m\n",
      "\u001b[0;32m~/anaconda3/lib/python3.7/site-packages/ee/data.py\u001b[0m in \u001b[0;36m_execute_cloud_call\u001b[0;34m(call, num_retries)\u001b[0m\n\u001b[1;32m    330\u001b[0m     \u001b[0;32mreturn\u001b[0m \u001b[0mcall\u001b[0m\u001b[0;34m.\u001b[0m\u001b[0mexecute\u001b[0m\u001b[0;34m(\u001b[0m\u001b[0mnum_retries\u001b[0m\u001b[0;34m=\u001b[0m\u001b[0mnum_retries\u001b[0m\u001b[0;34m)\u001b[0m\u001b[0;34m\u001b[0m\u001b[0;34m\u001b[0m\u001b[0m\n\u001b[1;32m    331\u001b[0m   \u001b[0;32mexcept\u001b[0m \u001b[0mgoogleapiclient\u001b[0m\u001b[0;34m.\u001b[0m\u001b[0merrors\u001b[0m\u001b[0;34m.\u001b[0m\u001b[0mHttpError\u001b[0m \u001b[0;32mas\u001b[0m \u001b[0me\u001b[0m\u001b[0;34m:\u001b[0m\u001b[0;34m\u001b[0m\u001b[0;34m\u001b[0m\u001b[0m\n\u001b[0;32m--> 332\u001b[0;31m     \u001b[0;32mraise\u001b[0m \u001b[0m_translate_cloud_exception\u001b[0m\u001b[0;34m(\u001b[0m\u001b[0me\u001b[0m\u001b[0;34m)\u001b[0m\u001b[0;34m\u001b[0m\u001b[0;34m\u001b[0m\u001b[0m\n\u001b[0m\u001b[1;32m    333\u001b[0m \u001b[0;34m\u001b[0m\u001b[0m\n\u001b[1;32m    334\u001b[0m \u001b[0;34m\u001b[0m\u001b[0m\n",
      "\u001b[0;31mEEException\u001b[0m: Element.get: Parameter 'object' is required."
     ]
    }
   ],
   "source": [
    "from shapely.geometry import Point, Polygon\n",
    "\n",
    "for case in cases.keys():\n",
    "    print('----')\n",
    "    print(case)\n",
    "\n",
    "    lon,lat=cases[case]['loc']\n",
    "\n",
    "    bbox_file='%s/%s/%s_boundary_WGS.json'%(root,case,case)\n",
    "    print(bbox_file)\n",
    "\n",
    "    bbox=json.load(open(bbox_file,'r'))\n",
    "    coords = bbox['features'][0]['geometry']['coordinates']\n",
    "    aoi = ee.Geometry.Polygon(coords)\n",
    "    \n",
    "\n",
    "    #aoi = ee.Geometry.Point(lon,lat)\n",
    "    cases[case]['aoi']=aoi\n",
    "\n",
    "\n",
    "    date_event=cases[case]['date']\n",
    "    print(date_event)\n",
    "    date_pre=cases[case]['date']-timedelta(days=7)\n",
    "    date_post=cases[case]['date']+timedelta(days=15)\n",
    "\n",
    "    startDate=ee.Date(date_pre.strftime('%Y-%m-%d'))\n",
    "    endDate=ee.Date(date_post.strftime('%Y-%m-%d'))\n",
    "\n",
    "    s2=ee.ImageCollection('COPERNICUS/S2')\n",
    "    #s2=ee.ImageCollection('LANDSAT/LC09/C02/T1_L2')\n",
    "\n",
    "    #image collection\n",
    "    im_coll_pre = s2.filterDate(startDate,date_event).filter(ee.Filter.eq('MGRS_TILE', '19HBD')).filterBounds(aoi)\n",
    "    nim_pre=im_coll_pre.size().getInfo()\n",
    "    image_pre = ee.Image(im_coll_pre.sort('system:time_start').first())\n",
    "    print('Pre image: ', image_pre.get('system:id').getInfo())\n",
    "    print('pre:',nim_pre)\n",
    "    \n",
    "    #im_coll_pre= get_s2_sr_cld_col(aoi,startDate, date_event)\n",
    "    im_coll_post = s2.filterDate(date_event,endDate).filter(ee.Filter.eq('MGRS_TILE', '19HBD')).filterBounds(aoi)\n",
    "\n",
    "    \n",
    "    nim_post=im_coll_post.size().getInfo()\n",
    "\n",
    "    image_post = ee.Image(im_coll_post.sort('system:time_start',False).first())\n",
    "    print('Post image: ',image_post.get('system:id').getInfo())\n",
    "\n",
    "    image_pre = ee.Image(im_coll_pre.sort('system:time_start').first())\n",
    "    print('Pre image: ', image_pre.get('system:id').getInfo())\n",
    "    print('pre:',nim_pre,'post:',nim_post)\n",
    "    cases[case]['im_pre']=image_pre.get('system:id').getInfo()\n",
    "    cases[case]['im_post']=image_post.get('system:id').getInfo()\n",
    "\n",
    "                \n"
   ]
  },
  {
   "cell_type": "markdown",
   "id": "0d219e5b",
   "metadata": {
    "id": "0d219e5b"
   },
   "source": [
    "## Cálculo de índices y descarga de imágenes"
   ]
  },
  {
   "cell_type": "code",
   "execution_count": null,
   "id": "de08b0ff",
   "metadata": {
    "id": "de08b0ff"
   },
   "outputs": [],
   "source": [
    "# Write a function that computes NDVI for an image and adds it as a band\n",
    "def addIndex(image):\n",
    "  ndvi = image.normalizedDifference(['B8', 'B4']).rename('ndvi')\n",
    "  nbr = image.normalizedDifference(['B8', 'B12']).rename('nbr')\n",
    "  newBands = ee.Image([ndvi, nbr])\n",
    "  image = image.addBands(newBands)\n",
    "  return image\n",
    "\n"
   ]
  },
  {
   "cell_type": "code",
   "execution_count": null,
   "id": "d9b25958",
   "metadata": {
    "id": "d9b25958",
    "outputId": "e7b75eae-5252-4cf5-bd76-d8789a687b7d"
   },
   "outputs": [
    {
     "name": "stdout",
     "output_type": "stream",
     "text": [
      "LagunaVerde COPERNICUS/S2/20220324T143731_20220324T144728_T19HBD S2_pre_20220324T143731_20220324T144728_T19HBD\n",
      "LagunaVerde COPERNICUS/S2/20220413T143731_20220413T144923_T19HBD S2_post_20220413T143731_20220413T144923_T19HBD\n",
      "{'pre': <ee.image.Image object at 0x7f99ba912b50>, 'post': <ee.image.Image object at 0x7f99beb3a970>}\n"
     ]
    }
   ],
   "source": [
    "import requests\n",
    "\n",
    "#for case in cases.keys():\n",
    "for case in ['LagunaVerde']:\n",
    "\n",
    "    images={}\n",
    "    path='%s/%s/'%(root,case)\n",
    "    try:\n",
    "        os.mkdir(path)\n",
    "    except:\n",
    "        pass\n",
    "        \n",
    "    for epoch in ['pre','post']:\n",
    "        img=ee.Image(cases[case]['im_%s'%epoch]).select(['B2','B3','B4','B5','B7','B8','B12'])\n",
    "        img_index=addIndex(img)\n",
    "    \n",
    "        uid = img.get('system:id').getInfo()\n",
    "        name='S2_%s_'%epoch+uid.split('/')[-1]\n",
    "        print(case,uid,name)\n",
    "        \n",
    "        img_clip=img_index.clip(cases[case]['aoi'])\n",
    "        url=img_clip.getDownloadURL({'name':name,'bands': ['B2', 'B3', 'B4','nbr','ndvi'],'filePerBand': False})\n",
    "       \n",
    "        r = requests.get(url, stream=True)\n",
    "        z = zipfile.ZipFile(io.BytesIO(r.content))\n",
    "        z.extractall()        \n",
    "\n",
    "        shutil.move('%s.tif'%name, '%s/%s.tif'%(path,name))\n",
    "        images['%s'%epoch]=img_clip\n",
    "        \n",
    "    print(images)   \n",
    "    dnbr=images['pre'].select('nbr').subtract(images['post'].select('nbr'))\n",
    "    \n",
    "    url2=dnbr.getDownloadURL({'name':'%s_dnbr'%case,'bands': ['nbr'],'filePerBand': False})\n",
    "    r = requests.get(url2, stream=True)\n",
    "    z = zipfile.ZipFile(io.BytesIO(r.content))\n",
    "    z.extractall()\n",
    "    shutil.move('%s_dnbr.tif'%case, '%s/%s_dnbr.tif'%(path,case))\n",
    "    "
   ]
  }
 ],
 "metadata": {
  "colab": {
   "provenance": []
  },
  "kernelspec": {
   "display_name": "Python 3",
   "language": "python",
   "name": "python3"
  },
  "language_info": {
   "codemirror_mode": {
    "name": "ipython",
    "version": 3
   },
   "file_extension": ".py",
   "mimetype": "text/x-python",
   "name": "python",
   "nbconvert_exporter": "python",
   "pygments_lexer": "ipython3",
   "version": "3.8.8"
  }
 },
 "nbformat": 4,
 "nbformat_minor": 5
}
